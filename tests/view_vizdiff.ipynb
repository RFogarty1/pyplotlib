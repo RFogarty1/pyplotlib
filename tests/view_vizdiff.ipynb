{
 "cells": [
  {
   "cell_type": "markdown",
   "id": "9d15fbc0",
   "metadata": {},
   "source": [
    "**WARNING: You may need to clear/bypass your browser cache to see the correct up-to-date images**"
   ]
  },
  {
   "cell_type": "markdown",
   "id": "722b9b08",
   "metadata": {},
   "source": [
    "For firefox you can bypass by using shift + refresh\n",
    "\n",
    "Incognito/private browsing may (should?) also work"
   ]
  },
  {
   "cell_type": "code",
   "execution_count": null,
   "id": "e075985a",
   "metadata": {},
   "outputs": [],
   "source": []
  },
  {
   "cell_type": "markdown",
   "id": "bf84b8c9",
   "metadata": {},
   "source": [
    "**Imports**"
   ]
  },
  {
   "cell_type": "code",
   "execution_count": null,
   "id": "7f09ac31",
   "metadata": {},
   "outputs": [],
   "source": [
    "\n",
    "import os\n",
    "\n",
    "#Used to generate html to show side-by-side images\n",
    "import ipyplot\n",
    "\n",
    "import pyplotterlib.reg_testing.shared as regTestHelp"
   ]
  },
  {
   "cell_type": "markdown",
   "id": "a78f581b",
   "metadata": {},
   "source": [
    "**Configuration Variables**"
   ]
  },
  {
   "cell_type": "code",
   "execution_count": null,
   "id": "0b35fc0f",
   "metadata": {},
   "outputs": [],
   "source": [
    "\n",
    "START_PATHS = list()\n",
    "\n",
    "_baseDir = os.path.abspath( os.path.join( os.getcwd(), \"viz_cmp_tests\" ) )\n",
    "START_PATHS.append( os.path.join(_baseDir, \"single_plotter\") )\n",
    "START_PATHS.append( os.path.join(_baseDir, \"rect_multi_plotter\") )\n",
    "START_PATHS.append( os.path.join(_baseDir, \"double_axis_plotter\")   )\n",
    "START_PATHS.append( os.path.join(_baseDir, \"split_axes_simple\")  )\n",
    "START_PATHS.append( os.path.join(_baseDir, \"split_axes_creator\")  )\n",
    "START_PATHS.append( os.path.join(_baseDir, \"image_plotter\") )"
   ]
  },
  {
   "cell_type": "markdown",
   "id": "a93cb127",
   "metadata": {},
   "source": [
    "**Get all relevant directories**"
   ]
  },
  {
   "cell_type": "code",
   "execution_count": null,
   "id": "859d97d7",
   "metadata": {},
   "outputs": [],
   "source": [
    "def getUseDirsFromStartPaths(startPaths):\n",
    "    outDirs = list()\n",
    "    for currPath in startPaths:\n",
    "        currFiles = regTestHelp.findFilesWithExt(currPath, \".py\")\n",
    "        currDirs = [os.path.split(x)[0] for x in currFiles]\n",
    "        outDirs.extend(currDirs)\n",
    "    return outDirs\n",
    "\n",
    "useDirs = getUseDirsFromStartPaths(START_PATHS)\n"
   ]
  },
  {
   "cell_type": "markdown",
   "id": "be2ab292",
   "metadata": {},
   "source": [
    "**Get all relevant image pairs (exp vs actual)**"
   ]
  },
  {
   "cell_type": "code",
   "execution_count": null,
   "id": "9a9c4a0b",
   "metadata": {},
   "outputs": [],
   "source": [
    "def getImagePairsFromDirs(inpDirs):\n",
    "    outPairs = list()\n",
    "    expName = \"expected-plot-vizdiff.png\"\n",
    "    actName = \"actual-plot-vizdiff.png\"\n",
    "    for inpDir in inpDirs:\n",
    "        currPair = [os.path.join(inpDir,x) for x in [expName,actName]]\n",
    "        outPairs.append(currPair)\n",
    "    return outPairs\n",
    "        \n",
    "imagePairs = getImagePairsFromDirs(useDirs)\n",
    "\n"
   ]
  },
  {
   "cell_type": "markdown",
   "id": "a9bba510",
   "metadata": {},
   "source": [
    "**Create all the plots**"
   ]
  },
  {
   "cell_type": "code",
   "execution_count": null,
   "id": "7ebaa3c9",
   "metadata": {
    "scrolled": false
   },
   "outputs": [],
   "source": [
    "for imgPair in imagePairs:\n",
    "    ipyplot.plot_images(imgPair, max_images=2, img_width=450)"
   ]
  },
  {
   "cell_type": "code",
   "execution_count": null,
   "id": "c5cd0f62",
   "metadata": {},
   "outputs": [],
   "source": []
  },
  {
   "cell_type": "code",
   "execution_count": null,
   "id": "9b3c2193",
   "metadata": {},
   "outputs": [],
   "source": []
  },
  {
   "cell_type": "code",
   "execution_count": null,
   "id": "680e2e6b",
   "metadata": {},
   "outputs": [],
   "source": []
  }
 ],
 "metadata": {
  "kernelspec": {
   "display_name": "Python 3 (ipykernel)",
   "language": "python",
   "name": "python3"
  },
  "language_info": {
   "codemirror_mode": {
    "name": "ipython",
    "version": 3
   },
   "file_extension": ".py",
   "mimetype": "text/x-python",
   "name": "python",
   "nbconvert_exporter": "python",
   "pygments_lexer": "ipython3",
   "version": "3.10.6"
  }
 },
 "nbformat": 4,
 "nbformat_minor": 5
}
