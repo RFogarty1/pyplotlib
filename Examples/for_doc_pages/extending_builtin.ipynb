{
 "cells": [
  {
   "cell_type": "markdown",
   "id": "c4e09d6d",
   "metadata": {},
   "source": [
    "**Imports**"
   ]
  },
  {
   "cell_type": "code",
   "execution_count": 1,
   "id": "0ed50962",
   "metadata": {},
   "outputs": [],
   "source": [
    "\n",
    "import matplotlib.pyplot as plt\n",
    "import pyplotterlib.standard.plotters as ppl\n"
   ]
  },
  {
   "cell_type": "markdown",
   "id": "fc60ad3d",
   "metadata": {},
   "source": [
    "**1) Calling matplotlib post-plotting**"
   ]
  },
  {
   "cell_type": "code",
   "execution_count": 2,
   "id": "23be1fc0",
   "metadata": {
    "scrolled": true
   },
   "outputs": [
    {
     "data": {
      "text/plain": [
       "<matplotlib.lines.Line2D at 0x7f811098d480>"
      ]
     },
     "execution_count": 2,
     "metadata": {},
     "output_type": "execute_result"
    },
    {
     "data": {
      "image/png": "[encoded data removed]",
      "text/plain": [
       "<Figure size 432x288 with 1 Axes>"
      ]
     },
     "metadata": {
      "needs_background": "light"
     },
     "output_type": "display_data"
    }
   ],
   "source": [
    "blankPlotter = ppl.LinePlotter()\n",
    "unused = blankPlotter.createPlot(xLimit=[0,10])\n",
    "plt.gca().axvline(x=3)\n"
   ]
  },
  {
   "cell_type": "markdown",
   "id": "4ec74d25",
   "metadata": {},
   "source": [
    "**2) Appending a command + option object to the plotter instance**"
   ]
  },
  {
   "cell_type": "code",
   "execution_count": 3,
   "id": "194b0a13",
   "metadata": {},
   "outputs": [],
   "source": [
    "import pyplotterlib.core.plot_command as pltCmdCoreHelp\n",
    "import pyplotterlib.core.plot_options as pltOptCoreHelp\n",
    "import pyplotterlib.core.serialization.register as serRegHelp\n",
    "\n",
    "#Create option object\n",
    "@serRegHelp.registerForSerialization()\n",
    "class VertLinePlotOption(pltOptCoreHelp.FloatPlotOption):\n",
    "    def __init__(self,name=None, value=None):\n",
    "        self.name = \"vertLinePos\"\n",
    "        self.value = value\n",
    "\n",
    "\n",
    "#Create command object. Note that neither _name or _description are strictly required\n",
    "@serRegHelp.registerForSerialization()\n",
    "class DrawVertLine(pltCmdCoreHelp.PlotCommand):\n",
    "    def __init__(self):\n",
    "        self._name = \"drawVertLine\"\n",
    "        self._description = \"Draws a vertical line at a position given by the vertLinePos option\"\n",
    "    \n",
    "    def execute(self, plotterInstance):\n",
    "        linePos = getattr(plotterInstance.opts,\"vertLinePos\").value\n",
    "        if linePos is None:\n",
    "            return None\n",
    "        plt.gca().axvline(x=linePos)\n",
    "        "
   ]
  },
  {
   "cell_type": "code",
   "execution_count": 4,
   "id": "9f500cfe",
   "metadata": {},
   "outputs": [
    {
     "data": {
      "image/png": "[encoded data removed]",
      "text/plain": [
       "<Figure size 432x288 with 1 Axes>"
      ]
     },
     "metadata": {
      "needs_background": "light"
     },
     "output_type": "display_data"
    }
   ],
   "source": [
    "moddedPlotter = ppl.LinePlotter()\n",
    "moddedPlotter.addOptionsObjs([VertLinePlotOption()])\n",
    "moddedPlotter.appendCommandObjs([DrawVertLine()])\n",
    "\n",
    "moddedPlotter.setOptionVals({\"xLimit\":[0,10],\"vertLinePos\":5})\n",
    "unused = moddedPlotter.createPlot()\n"
   ]
  },
  {
   "cell_type": "code",
   "execution_count": 5,
   "id": "d7fe7f25",
   "metadata": {},
   "outputs": [
    {
     "data": {
      "image/png": "[encoded data removed]",
      "text/plain": [
       "<Figure size 432x288 with 1 Axes>"
      ]
     },
     "metadata": {
      "needs_background": "light"
     },
     "output_type": "display_data"
    }
   ],
   "source": [
    "ppl.writePlotterToFile(moddedPlotter, \"_temp_file.json\")\n",
    "reReadPlotter = ppl.readPlotterFromFile(\"_temp_file.json\")\n",
    "unused = reReadPlotter.createPlot()"
   ]
  },
  {
   "cell_type": "markdown",
   "id": "72426668",
   "metadata": {},
   "source": [
    "**3) Demonstrate use of an imported plotter**"
   ]
  },
  {
   "cell_type": "code",
   "execution_count": 6,
   "id": "aa5aaf54",
   "metadata": {},
   "outputs": [
    {
     "data": {
      "image/png": "[encoded data removed]",
      "text/plain": [
       "<Figure size 432x288 with 1 Axes>"
      ]
     },
     "metadata": {
      "needs_background": "light"
     },
     "output_type": "display_data"
    }
   ],
   "source": [
    "import extending_builtin_example_plotter as extPlotterHelp\n",
    "currPlotter = extPlotterHelp.ExtendedLinePlotter(xLimit=[0,10],vertLinePos=7)\n",
    "unused = currPlotter.createPlot()"
   ]
  },
  {
   "cell_type": "code",
   "execution_count": 7,
   "id": "73d95594",
   "metadata": {},
   "outputs": [
    {
     "data": {
      "image/png": "[encoded data removed]",
      "text/plain": [
       "<Figure size 432x288 with 1 Axes>"
      ]
     },
     "metadata": {
      "needs_background": "light"
     },
     "output_type": "display_data"
    }
   ],
   "source": [
    "ppl.writePlotterToFile(currPlotter,\"_temp_file.json\")\n",
    "reReadPlotter = ppl.readPlotterFromFile(\"_temp_file.json\")\n",
    "unused = reReadPlotter.createPlot()"
   ]
  },
  {
   "cell_type": "code",
   "execution_count": null,
   "id": "f99d1974",
   "metadata": {},
   "outputs": [],
   "source": []
  }
 ],
 "metadata": {
  "kernelspec": {
   "display_name": "Python 3 (ipykernel)",
   "language": "python",
   "name": "python3"
  },
  "language_info": {
   "codemirror_mode": {
    "name": "ipython",
    "version": 3
   },
   "file_extension": ".py",
   "mimetype": "text/x-python",
   "name": "python",
   "nbconvert_exporter": "python",
   "pygments_lexer": "ipython3",
   "version": "3.10.4"
  }
 },
 "nbformat": 4,
 "nbformat_minor": 5
}
